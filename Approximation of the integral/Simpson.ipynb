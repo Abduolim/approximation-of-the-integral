{
 "cells": [
  {
   "cell_type": "code",
   "execution_count": 4,
   "id": "62e67899",
   "metadata": {},
   "outputs": [
    {
     "name": "stdout",
     "output_type": "stream",
     "text": [
      "Approximated integral using Simpson's Rule: 2.6666666666666665\n"
     ]
    }
   ],
   "source": [
    "def simpsons_rule(a, b, f, n):\n",
    "    h = (b - a) / n\n",
    "    result = f(a) + f(b)\n",
    "    for i in range(1, n):\n",
    "        x_i = a + i * h\n",
    "        if i % 2 == 0:\n",
    "            result += 2 * f(x_i)\n",
    "        else:\n",
    "            result += 4 * f(x_i)\n",
    "    return h * result / 3\n",
    "\n",
    "a = 0\n",
    "b = 2\n",
    "n = 4 \n",
    "result = simpsons_rule(a, b, lambda x: x**2, n)\n",
    "print(\"Approximated integral using Simpson's Rule:\", result)\n"
   ]
  }
 ],
 "metadata": {
  "kernelspec": {
   "display_name": "Python 3 (ipykernel)",
   "language": "python",
   "name": "python3"
  },
  "language_info": {
   "codemirror_mode": {
    "name": "ipython",
    "version": 3
   },
   "file_extension": ".py",
   "mimetype": "text/x-python",
   "name": "python",
   "nbconvert_exporter": "python",
   "pygments_lexer": "ipython3",
   "version": "3.9.0"
  }
 },
 "nbformat": 4,
 "nbformat_minor": 5
}
