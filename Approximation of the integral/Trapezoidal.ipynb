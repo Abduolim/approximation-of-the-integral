{
 "cells": [
  {
   "cell_type": "code",
   "execution_count": 3,
   "id": "26939d7f",
   "metadata": {},
   "outputs": [
    {
     "name": "stdout",
     "output_type": "stream",
     "text": [
      "Approximated integral using Trapezoidal Rule: 2.75\n"
     ]
    }
   ],
   "source": [
    "def trapezoidal_rule(a, b, f, n):\n",
    "    h = (b - a) / n\n",
    "    result = 0.5 * (f(a) + f(b))\n",
    "    for i in range(1, n):\n",
    "        result += f(a + i * h)\n",
    "    return h * result\n",
    "\n",
    "a = 0\n",
    "b = 2\n",
    "n = 4\n",
    "result = trapezoidal_rule(a, b, lambda x: x**2, n)\n",
    "print(\"Approximated integral using Trapezoidal Rule:\", result)"
   ]
  }
 ],
 "metadata": {
  "kernelspec": {
   "display_name": "Python 3 (ipykernel)",
   "language": "python",
   "name": "python3"
  },
  "language_info": {
   "codemirror_mode": {
    "name": "ipython",
    "version": 3
   },
   "file_extension": ".py",
   "mimetype": "text/x-python",
   "name": "python",
   "nbconvert_exporter": "python",
   "pygments_lexer": "ipython3",
   "version": "3.9.0"
  }
 },
 "nbformat": 4,
 "nbformat_minor": 5
}
